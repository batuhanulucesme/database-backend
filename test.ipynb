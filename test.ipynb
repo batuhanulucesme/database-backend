{
 "cells": [
  {
   "cell_type": "code",
   "execution_count": 2,
   "metadata": {},
   "outputs": [
    {
     "name": "stdout",
     "output_type": "stream",
     "text": [
      "{'_id': '6690f11a37e39cf407a0afcb', 'name': 'LG27 inc', 'serial_num': '093489', 'description': 'VR', 'type': 'Monitör', 'department_num': '234', 'usage_location': 'SÜREÇ TASARIM', 'current_location': 'batuhan masa', 'user': 'Batuhan Ulucesme', 'owner': 'batuhan@example.com', 'due_date': '2024-02-02', 'purpose': 'dfaf'}\n",
      "{'_id': '6690f11a37e39cf407a0afcc', 'name': 'HP Spectre x360', 'serial_num': '857302', 'description': 'Laptop', 'type': 'Bilgisayar', 'department_num': '342', 'usage_location': 'ÜRÜN GELİŞTİRME', 'current_location': 'batuhan masa', 'user': 'Batuhan Ulucesme', 'owner': 'batuhan@example.com', 'due_date': '2024-05-15', 'purpose': 'Kodlama'}\n",
      "{'_id': '6690f11a37e39cf407a0afcd', 'name': 'Dell XPS 15', 'serial_num': '093493', 'description': 'Geliştirici Laptop', 'type': 'Bilgisayar', 'department_num': '123', 'usage_location': 'YAZILIM GELİŞTİRME', 'current_location': 'batuhan masa', 'user': 'Batuhan Ulucesme', 'owner': 'batuhan@example.com', 'due_date': '2024-03-22', 'purpose': 'Yazılım Geliştirme'}\n",
      "{'_id': '6690f11a37e39cf407a0afce', 'name': 'Apple MacBook Pro', 'serial_num': '392034', 'description': 'Dizüstü Bilgisayar', 'type': 'Bilgisayar', 'department_num': '321', 'usage_location': 'batuhan masa', 'user': 'Batuhan Ulucesme', 'owner': 'batuhan@example.com', 'due_date': '2024-06-10', 'purpose': 'Finansal Analiz'}\n",
      "{'_id': '6690f11a37e39cf407a0afcf', 'name': 'Samsung Galaxy S21', 'serial_num': '384938', 'description': 'Akıllı Telefon', 'type': 'Telefon', 'department_num': '543', 'usage_location': 'batuhan masa', 'user': 'Batuhan Ulucesme', 'owner': 'batuhan@example.com', 'due_date': '2024-04-18', 'purpose': 'Satış Takibi'}\n"
     ]
    }
   ],
   "source": [
    "from pymongo import MongoClient\n",
    "\n",
    "# Connect to MongoDB\n",
    "client = MongoClient(\"mongodb://localhost:27017\")\n",
    "\n",
    "# Select the database\n",
    "db = client['inventory']\n",
    "\n",
    "# Select the collection\n",
    "equipments_collection = db['equipments']\n",
    "\n",
    "# Query to filter by owner\n",
    "owner_email = \"batuhan@example.com\"\n",
    "query = {\"owner\": owner_email}\n",
    "\n",
    "# Fetch the documents\n",
    "equipments = equipments_collection.find(query)\n",
    "\n",
    "# Print the fetched documents\n",
    "for equipment in equipments:\n",
    "    print(equipment)\n"
   ]
  },
  {
   "cell_type": "code",
   "execution_count": null,
   "metadata": {},
   "outputs": [],
   "source": []
  }
 ],
 "metadata": {
  "kernelspec": {
   "display_name": "Python 3",
   "language": "python",
   "name": "python3"
  },
  "language_info": {
   "codemirror_mode": {
    "name": "ipython",
    "version": 3
   },
   "file_extension": ".py",
   "mimetype": "text/x-python",
   "name": "python",
   "nbconvert_exporter": "python",
   "pygments_lexer": "ipython3",
   "version": "3.12.4"
  }
 },
 "nbformat": 4,
 "nbformat_minor": 2
}
